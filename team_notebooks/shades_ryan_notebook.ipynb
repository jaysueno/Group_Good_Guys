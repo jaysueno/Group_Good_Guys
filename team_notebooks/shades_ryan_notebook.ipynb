{
 "cells": [
  {
   "cell_type": "code",
   "execution_count": null,
   "metadata": {},
   "outputs": [],
   "source": [
    "# import dependencies\n",
    "\n",
    "import pandas as pd\n",
    "import matplotlib.pyplot as plt\n",
    "from matplotlib.pyplot import figure\n",
    "import numpy as np"
   ]
  },
  {
   "cell_type": "code",
   "execution_count": null,
   "metadata": {},
   "outputs": [],
   "source": [
    "# call first file\n",
    "\n",
    "shades_grey_df = pd.read_csv('Resources/shadesgrey2015.csv')"
   ]
  },
  {
   "cell_type": "code",
   "execution_count": null,
   "metadata": {
    "scrolled": true
   },
   "outputs": [],
   "source": [
    "# rename columns\n",
    "grey_rename_df = shades_grey_df.rename(columns={'Market 2015': 'Country',\n",
    "                                               'Region 2015': 'Region',\n",
    "                                               '$ Opening Day Sales 2015': 'Opening Day Sales 2015',\n",
    "                                               '$ Gross Sales 2015': 'Gross Sales 2015'})\n",
    "grey_rename_df.head()"
   ]
  },
  {
   "cell_type": "code",
   "execution_count": null,
   "metadata": {},
   "outputs": [],
   "source": [
    "# call second file\n",
    "shades_darker_df = pd.read_csv('Resources/shadesdarker2017.csv')"
   ]
  },
  {
   "cell_type": "code",
   "execution_count": null,
   "metadata": {},
   "outputs": [],
   "source": [
    "# rename columns\n",
    "darker_rename_df = shades_darker_df.rename(columns={'Market 2017': 'Country',\n",
    "                                                   'Region 2017': 'Region',\n",
    "                                                   '$ Opening Day Sales 2017': 'Opening Day Sales 2017',\n",
    "                                                   '$ Gross Sales 2017': 'Gross Sales 2017'})"
   ]
  },
  {
   "cell_type": "code",
   "execution_count": null,
   "metadata": {},
   "outputs": [],
   "source": [
    "# merge first and second files - Combined Data Set from Two CSV files\n",
    "shades_df = pd.merge(grey_rename_df,darker_rename_df)\n",
    "shades_df.head()"
   ]
  },
  {
   "cell_type": "code",
   "execution_count": null,
   "metadata": {},
   "outputs": [],
   "source": [
    "# Build Lists for new Target Country DataFrame and Charting\n",
    "\n",
    "x_target = ['Germany', 'Mexico', 'Philippines', 'Singapore', 'United Kingdom', 'United States']\n",
    "target_happy_2015 = [26, 14, 90, 24, 21, 15]\n",
    "target_happy_2017 = [16, 25, 72, 26, 19, 14]\n",
    "open_pct_2015 = [34, 39, 57, 35, 40, 51]\n",
    "open_pct_2017 = [26, 42, 53, 36, 32, 40]\n",
    "\n",
    "y_gross_2015 = [41430653, 14148888, 3565511, 1837395, 51603774, 166167230]\n",
    "y_opening_2015 = [14135994, 5495154, 2047933,  641621, 20876148, 85171450]\n",
    "\n",
    "y_gross_2017 = [32709880, 6534100, 3399902, 1031387, 28583660, 114581250]\n",
    "y_opening_2017 = [8529213, 2692197, 1803492, 369593, 9241277, 46607250]\n",
    "\n",
    "y_ticks_gross  = [0,25000000,50000000,75000000,100000000,125000000,150000000,175000000,200000000]\n",
    "y_labels_gross = ['$0','$25,000,000','$50,000,000','$75,000,000','$100,000,000','$125,000,000','$150,000,000','175,000,000','$200,000,000']\n",
    "\n",
    "y_ticks_open = [0,20000000,40000000,60000000,80000000,100000000]\n",
    "y_labels_open = ['$0','$20,000,000','$40,000,000','$60,000,000','$80,000,000','$100,000,000']\n",
    "\n",
    "y_ticks_gross17 = [0,25000000,50000000,75000000,100000000,125000000]\n",
    "y_labels_gross17 = ['$0','$25,000,000','$50,000,000','$75,000,000','$100,000,000','$125,000,000']\n",
    "\n",
    "y_ticks_open17 = [0,10000000,20000000,30000000,40000000,50000000]\n",
    "y_labels_open17 = ['$0','$10,000,000','$20,000,000','$30,000,000','$40,000,000','$50,000,000']"
   ]
  },
  {
   "cell_type": "code",
   "execution_count": null,
   "metadata": {},
   "outputs": [],
   "source": [
    "# Build a dataframe which holds target countries, sales info for each movie, and happiness rank. Should be 5 Columns Long\n",
    "\n",
    "target_data = {'Country': x_target,\n",
    "               'Happiness Rank 2015': target_happy_2015, \n",
    "               'Gross Sales 2015': y_gross_2015,\n",
    "               'Opening Day Sales 2015': y_opening_2015,\n",
    "               '% Opening Day Sales to Gross Sales 2015': open_pct_2015,\n",
    "               'Happiness Rank 2017': target_happy_2017,\n",
    "               'Gross Sales 2017': y_gross_2017,\n",
    "               'Opening Sales 2017': y_opening_2017,\n",
    "               '% Opening Day Sales to Gross Sales 2017': open_pct_2017}\n",
    "target_df = pd.DataFrame(target_data)\n",
    "target_df"
   ]
  },
  {
   "cell_type": "code",
   "execution_count": null,
   "metadata": {},
   "outputs": [],
   "source": [
    "target_df.set_index('Country')"
   ]
  },
  {
   "cell_type": "code",
   "execution_count": null,
   "metadata": {},
   "outputs": [],
   "source": [
    "# Make Bar Chart with Target Country from Each Region which shows Opening Day Ticket Sales 2015\n",
    "\n",
    "plt.bar(x_target, y_opening_2015)\n",
    "plt.xticks(rotation=90)\n",
    "plt.title('Opening Day Ticket Sales - 50 Shades of Grey (2015)')\n",
    "plt.yticks(ticks=y_ticks_open,labels=y_labels_open)\n",
    "plt.tight_layout()\n",
    "plt.grid()\n",
    "plt.savefig('Charts/Bar_OpeningSales2015.png')"
   ]
  },
  {
   "cell_type": "code",
   "execution_count": null,
   "metadata": {
    "scrolled": true
   },
   "outputs": [],
   "source": [
    "# Make Bar Chart with Target Country from Each Region which shows Gross Ticket Sales 2015\n",
    "\n",
    "plt.bar(x_target, y_gross_2015)\n",
    "plt.xticks(rotation=90)\n",
    "plt.title('Gross Movie Ticket Sales - 50 Shades of Grey (2015)')\n",
    "plt.yticks(ticks=y_ticks_gross,labels=y_labels_gross)\n",
    "plt.tight_layout()\n",
    "plt.grid()\n",
    "plt.savefig('Charts/Bar_GrossSales2015.png')"
   ]
  },
  {
   "cell_type": "code",
   "execution_count": null,
   "metadata": {
    "scrolled": true
   },
   "outputs": [],
   "source": [
    "# Make Bar Chart with Target Country from Each Region which shows Opening Day Ticket Sales 2017\n",
    "\n",
    "plt.bar(x_target, y_opening_2017)\n",
    "plt.xticks(rotation=90)\n",
    "plt.title('Opening Day Ticket Sales - 50 Shades Darker (2017)')\n",
    "plt.yticks(ticks=y_ticks_open17,labels=y_labels_open17)\n",
    "plt.tight_layout()\n",
    "plt.grid()\n",
    "plt.savefig('Charts/Bar_OpeningSales2017.png')"
   ]
  },
  {
   "cell_type": "code",
   "execution_count": null,
   "metadata": {},
   "outputs": [],
   "source": [
    "# Make Bar Chart with Target Country from Each Region which shows Gross Ticket Sales 2017\n",
    "\n",
    "plt.bar(x_target, y_gross_2017)\n",
    "plt.xticks(rotation=90)\n",
    "plt.title('Gross Ticket Sales - 50 Shades Darker (2017)')\n",
    "plt.yticks(ticks=y_ticks_gross17,labels=y_labels_gross17)\n",
    "plt.tight_layout()\n",
    "plt.grid()\n",
    "plt.savefig('Charts/Bar_GrossSales2017.png')"
   ]
  },
  {
   "cell_type": "code",
   "execution_count": null,
   "metadata": {},
   "outputs": [],
   "source": [
    "# Country by 50 Shades of Grey Opening Day Sales\n",
    "\n",
    "x = shades_df['Country']\n",
    "y = shades_df['Opening Day Sales 2015']\n",
    "plt.bar(x, y)\n",
    "plt.title('Opening Day Sales 2015 By Country')\n",
    "plt.xlabel('Country')\n",
    "plt.ylabel('Sales')\n",
    "plt.xticks(rotation=90)\n",
    "plt.tight_layout()\n",
    "plt.savefig('Charts/BarShadesOfGrey_OpeningSalesByCountry2015.png')"
   ]
  },
  {
   "cell_type": "code",
   "execution_count": null,
   "metadata": {},
   "outputs": [],
   "source": [
    "# Countries by 50 Shades of Grey Gross Sales\n",
    "\n",
    "x = shades_df['Country']\n",
    "y = shades_df['Gross Sales 2015']\n",
    "plt.bar(x,y)\n",
    "plt.title('Gross Sales 2015 By Country')\n",
    "plt.xlabel('Country')\n",
    "plt.ylabel('Sales')\n",
    "plt.xticks(rotation=90)\n",
    "plt.tight_layout()\n",
    "plt.savefig('Charts/BarShadesOfGrey_GrossSalesByCountry2015')"
   ]
  },
  {
   "cell_type": "code",
   "execution_count": null,
   "metadata": {},
   "outputs": [],
   "source": [
    "# call happiness files\n",
    "h15_df = pd.read_csv('Resources/Happiness_data_clean_2015.csv')\n",
    "h16_df = pd.read_csv('Resources/Happiness_data_clean_2016.csv')\n",
    "h17_df = pd.read_csv('Resources/Happiness_data_clean_2017.csv')"
   ]
  },
  {
   "cell_type": "code",
   "execution_count": null,
   "metadata": {},
   "outputs": [],
   "source": [
    "# merge Happiness Data from 2015 and 50 Shades of Grey which was released in 2015\n",
    "merged15_df = pd.merge(h15_df, shades_df)"
   ]
  },
  {
   "cell_type": "code",
   "execution_count": null,
   "metadata": {
    "scrolled": false
   },
   "outputs": [],
   "source": [
    "# rename index and alphabetize by country\n",
    "merged15_df = merged15_df.sort_values(by='Country')\n",
    "merged15_df.set_index('Country').head()"
   ]
  },
  {
   "cell_type": "code",
   "execution_count": null,
   "metadata": {},
   "outputs": [],
   "source": [
    "# Create a ScatterPlot comparing Opening Day Sales of 50 Shades of Grey in 2015 vs World Happiness Rank 2015 by country\n",
    "\n",
    "x = merged15_df['2015_rank']\n",
    "y = merged15_df['Opening Day Sales 2015']\n",
    "plt.scatter(x, y)\n",
    "plt.title('Opening Day Sales 2015 vs Happiness Rank 2015')\n",
    "plt.xlabel('Happiness Rank 2015 (Lower Number Means Higher Happiness)')\n",
    "plt.yticks(ticks=y_ticks_open,labels=y_labels_open)\n",
    "plt.tight_layout()\n",
    "plt.grid()\n",
    "plt.savefig('Charts/2015OpeningSalesVSHappiness.png')"
   ]
  },
  {
   "cell_type": "code",
   "execution_count": null,
   "metadata": {},
   "outputs": [],
   "source": [
    "# Create a ScatterPlot comparings Gross Sales of 50 Shades of Grey in 2015 vs World Happiness Rank 2015 by country\n",
    "\n",
    "x = merged15_df['2015_rank']\n",
    "y = merged15_df['Gross Sales 2015']\n",
    "plt.scatter(x, y)\n",
    "plt.title('Gross Sales 2015 vs. Happiness Rank 2015')\n",
    "plt.xlabel('Happiness Rank 2015 (Lower Number Means Higher Happiness)')\n",
    "plt.yticks(ticks=y_ticks_gross,labels=y_labels_gross)\n",
    "plt.tight_layout()\n",
    "plt.grid()\n",
    "plt.savefig('Charts/2015GrossSalesVSHappiness.png')"
   ]
  },
  {
   "cell_type": "code",
   "execution_count": null,
   "metadata": {},
   "outputs": [],
   "source": [
    "# merge Happiness Data from 2017 and 50 Shades Darker, the sequel to 50 Shades of Grey, which was released in 2017.\n",
    "# Sorted Country index alphabetically\n",
    "# set index to alphabetized County column\n",
    "\n",
    "merged17_df = pd.merge(h17_df, shades_df)\n",
    "merged17_df = merged17_df.sort_values('Country')\n",
    "merged17_df = merged17_df.set_index('Country')\n",
    "merged17_df"
   ]
  },
  {
   "cell_type": "code",
   "execution_count": null,
   "metadata": {},
   "outputs": [],
   "source": [
    "# Create a ScatterPlot comparings Opening Day Sales of 50 Shades Darker in 2017 vs World Happiness Rank 2017 by country\n",
    "\n",
    "x = merged17_df['2017_rank']\n",
    "y = merged17_df['Opening Day Sales 2017']\n",
    "plt.scatter(x, y)\n",
    "plt.title('Opening Day Sales 2017 vs Happiness Rank 2017')\n",
    "plt.xlabel('Happiness Rank 2017 (Lower Number Means Higher Happiness)')\n",
    "plt.yticks(ticks=[0,1000000,2000000,3000000,4000000,5000000,6000000,7000000,8000000,9000000,10000000],\n",
    "           labels=['$0','$1Million','$2Million','$3Miilion','$4Million','$5Million','$6Million','$7Million','$8Million','$9Million','$10Million'])\n",
    "\n",
    "for index, row in target_df.iterrows():\n",
    "    plt.annotate(row['Country'], (row['Happiness Rank 2017'], row['Opening Sales 2017']))\n",
    "\n",
    "plt.grid()\n",
    "plt.savefig('Charts/2017OpeningSalesVSHappiness.png')"
   ]
  },
  {
   "cell_type": "code",
   "execution_count": null,
   "metadata": {
    "scrolled": true
   },
   "outputs": [],
   "source": [
    "# Create a ScatterPlot comparings Gross Sales of 50 Shades Darker in 2017 vs World Happiness Rank 2017 by country\n",
    "\n",
    "x = merged17_df['2017_rank']\n",
    "y = merged17_df['Gross Sales 2017']\n",
    "plt.scatter(x, y)\n",
    "plt.title('Gross Sales 2017 vs World Happiness 2017')\n",
    "plt.xlabel('Happiness Rank 2017 (Lower Number Means Higher Happiness)')\n",
    "plt.yticks(ticks=y_ticks_gross17,labels=y_labels_gross17)\n",
    "\n",
    "for index, row in target_df.iterrows():\n",
    "    plt.annotate(row['Country'], (row['Happiness Rank 2017'], row['Gross Sales 2017']))\n",
    "\n",
    "plt.grid()\n",
    "plt.tight_layout()\n",
    "plt.savefig('Charts/2017GrossSalesVSHappiness.png')"
   ]
  },
  {
   "cell_type": "code",
   "execution_count": null,
   "metadata": {},
   "outputs": [],
   "source": [
    "target_df"
   ]
  },
  {
   "cell_type": "code",
   "execution_count": null,
   "metadata": {},
   "outputs": [],
   "source": [
    "# Create a ScatterPlot comparing Opening Day Sales of 50 Shades of Grey in 2015 vs World Happiness Rank 2015 with Target Countries\n",
    "\n",
    "x = target_df['Happiness Rank 2015']\n",
    "y = target_df['Opening Day Sales 2015']\n",
    "plt.scatter(x, y)\n",
    "plt.title('Opening Day Sales 2015 vs Happiness Rank 2015')\n",
    "plt.xlabel('Happiness Rank 2015 (Lower Number Means Higher Happiness)')\n",
    "plt.yticks(ticks=y_ticks_open,labels=y_labels_open)\n",
    "\n",
    "for index, row in target_df.iterrows():\n",
    "    plt.annotate(row['Country'], (row['Happiness Rank 2015'], row['Opening Day Sales 2015']))\n",
    "\n",
    "plt.tight_layout()\n",
    "plt.grid()\n",
    "plt.savefig('Charts/2015OpeningSalesVSHappiness_Target.png')"
   ]
  },
  {
   "cell_type": "code",
   "execution_count": null,
   "metadata": {},
   "outputs": [],
   "source": [
    "x = target_df['Happiness Rank 2015']\n",
    "y = target_df['Gross Sales 2015']\n",
    "plt.scatter(x, y)\n",
    "plt.title('Gross Sales 2015 vs Happiness Rank 2015')\n",
    "plt.xlabel('Happiness Rank 2015 (Lower Number Means Higher Happiness)')\n",
    "plt.yticks(ticks=y_ticks_gross,labels=y_labels_gross)\n",
    "\n",
    "for index, row in target_df.iterrows():\n",
    "    plt.annotate(row['Country'], (row['Happiness Rank 2015'], row['Gross Sales 2015']))\n",
    "\n",
    "plt.tight_layout()\n",
    "plt.grid()\n",
    "plt.savefig('Charts/2015GrossSalesVSHappiness_Target.png')"
   ]
  },
  {
   "cell_type": "code",
   "execution_count": null,
   "metadata": {},
   "outputs": [],
   "source": [
    "x = target_df['Happiness Rank 2017']\n",
    "y = target_df['Opening Sales 2017']\n",
    "plt.scatter(x, y)\n",
    "plt.title('Opening Day Sales 2017 vs Happiness Rank 2017')\n",
    "plt.xlabel('Happiness Rank 2017 (Lower Number Means Higher Happiness)')\n",
    "plt.yticks(ticks=y_ticks_open17,labels=y_labels_open17)\n",
    "\n",
    "for index, row in target_df.iterrows():\n",
    "    plt.annotate(row['Country'], (row['Happiness Rank 2017'], row['Opening Sales 2017']))\n",
    "\n",
    "plt.tight_layout()\n",
    "plt.grid()\n",
    "plt.savefig('Charts/2017OpeningSalesVSHappiness_Target.png')"
   ]
  },
  {
   "cell_type": "code",
   "execution_count": null,
   "metadata": {},
   "outputs": [],
   "source": [
    "x = target_df['Happiness Rank 2017']\n",
    "y = target_df['Gross Sales 2017']\n",
    "plt.scatter(x, y)\n",
    "plt.title('Gross Sales 2017 vs Happiness Rank 2017')\n",
    "plt.xlabel('Happiness Rank 2017 (Lower Number Means Higher Happiness)')\n",
    "plt.yticks(ticks=y_ticks_gross17,labels=y_labels_gross17)\n",
    "\n",
    "for index, row in target_df.iterrows():\n",
    "    plt.annotate(row['Country'], (row['Happiness Rank 2017'], row['Gross Sales 2017']))\n",
    "\n",
    "plt.tight_layout()\n",
    "plt.grid()\n",
    "plt.savefig('Charts/2017GrossSalesVSHappiness_Target.png')"
   ]
  },
  {
   "cell_type": "code",
   "execution_count": null,
   "metadata": {},
   "outputs": [],
   "source": []
  }
 ],
 "metadata": {
  "kernelspec": {
   "display_name": "Python 3",
   "language": "python",
   "name": "python3"
  },
  "language_info": {
   "codemirror_mode": {
    "name": "ipython",
    "version": 3
   },
   "file_extension": ".py",
   "mimetype": "text/x-python",
   "name": "python",
   "nbconvert_exporter": "python",
   "pygments_lexer": "ipython3",
   "version": "3.7.6"
  }
 },
 "nbformat": 4,
 "nbformat_minor": 4
}
