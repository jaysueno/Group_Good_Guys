{
 "cells": [
  {
   "cell_type": "markdown",
   "metadata": {},
   "source": [
    "## Dependencies"
   ]
  },
  {
   "cell_type": "code",
   "execution_count": 1,
   "metadata": {},
   "outputs": [],
   "source": [
    "import matplotlib.pyplot as plt\n",
    "import pandas as pd\n",
    "import numpy as np"
   ]
  },
  {
   "cell_type": "markdown",
   "metadata": {},
   "source": [
    "## Reading data into data frames"
   ]
  },
  {
   "cell_type": "code",
   "execution_count": 2,
   "metadata": {
    "tags": []
   },
   "outputs": [
    {
     "output_type": "execute_result",
     "data": {
      "text/plain": "       Country  2017_rank  2017_score  2017_GDP  2017_family  \\\n0       Norway          1       7.537  1.616463     1.533524   \n1      Denmark          2       7.522  1.482383     1.551122   \n2      Iceland          3       7.504  1.480633     1.610574   \n3  Switzerland          4       7.494  1.564980     1.516912   \n4      Finland          5       7.469  1.443572     1.540247   \n\n   2017_life_expect  2017_freedom  2017_generosity  2017_corruption  \\\n0          0.796667      0.635423         0.362012         0.315964   \n1          0.792566      0.626007         0.355280         0.400770   \n2          0.833552      0.627163         0.475540         0.153527   \n3          0.858131      0.620071         0.290549         0.367007   \n4          0.809158      0.617951         0.245483         0.382612   \n\n   2017_Dystopia  \n0       2.277027  \n1       2.313707  \n2       2.322715  \n3       2.276716  \n4       2.430182  ",
      "text/html": "<div>\n<style scoped>\n    .dataframe tbody tr th:only-of-type {\n        vertical-align: middle;\n    }\n\n    .dataframe tbody tr th {\n        vertical-align: top;\n    }\n\n    .dataframe thead th {\n        text-align: right;\n    }\n</style>\n<table border=\"1\" class=\"dataframe\">\n  <thead>\n    <tr style=\"text-align: right;\">\n      <th></th>\n      <th>Country</th>\n      <th>2017_rank</th>\n      <th>2017_score</th>\n      <th>2017_GDP</th>\n      <th>2017_family</th>\n      <th>2017_life_expect</th>\n      <th>2017_freedom</th>\n      <th>2017_generosity</th>\n      <th>2017_corruption</th>\n      <th>2017_Dystopia</th>\n    </tr>\n  </thead>\n  <tbody>\n    <tr>\n      <th>0</th>\n      <td>Norway</td>\n      <td>1</td>\n      <td>7.537</td>\n      <td>1.616463</td>\n      <td>1.533524</td>\n      <td>0.796667</td>\n      <td>0.635423</td>\n      <td>0.362012</td>\n      <td>0.315964</td>\n      <td>2.277027</td>\n    </tr>\n    <tr>\n      <th>1</th>\n      <td>Denmark</td>\n      <td>2</td>\n      <td>7.522</td>\n      <td>1.482383</td>\n      <td>1.551122</td>\n      <td>0.792566</td>\n      <td>0.626007</td>\n      <td>0.355280</td>\n      <td>0.400770</td>\n      <td>2.313707</td>\n    </tr>\n    <tr>\n      <th>2</th>\n      <td>Iceland</td>\n      <td>3</td>\n      <td>7.504</td>\n      <td>1.480633</td>\n      <td>1.610574</td>\n      <td>0.833552</td>\n      <td>0.627163</td>\n      <td>0.475540</td>\n      <td>0.153527</td>\n      <td>2.322715</td>\n    </tr>\n    <tr>\n      <th>3</th>\n      <td>Switzerland</td>\n      <td>4</td>\n      <td>7.494</td>\n      <td>1.564980</td>\n      <td>1.516912</td>\n      <td>0.858131</td>\n      <td>0.620071</td>\n      <td>0.290549</td>\n      <td>0.367007</td>\n      <td>2.276716</td>\n    </tr>\n    <tr>\n      <th>4</th>\n      <td>Finland</td>\n      <td>5</td>\n      <td>7.469</td>\n      <td>1.443572</td>\n      <td>1.540247</td>\n      <td>0.809158</td>\n      <td>0.617951</td>\n      <td>0.245483</td>\n      <td>0.382612</td>\n      <td>2.430182</td>\n    </tr>\n  </tbody>\n</table>\n</div>"
     },
     "metadata": {},
     "execution_count": 2
    }
   ],
   "source": [
    "w_happiness_clean_15 = 'Resources/Happiness_data_clean_2015.csv'\n",
    "w_happiness_clean_16 = 'Resources/Happiness_data_clean_2016.csv'\n",
    "w_happiness_clean_17 = 'Resources/Happiness_data_clean_2017.csv'\n",
    "\n",
    "h15_df = pd.read_csv(w_happiness_clean_15)\n",
    "h16_df = pd.read_csv(w_happiness_clean_16)\n",
    "h17_df = pd.read_csv(w_happiness_clean_17)\n",
    "\n",
    "h17_df.head()"
   ]
  },
  {
   "cell_type": "markdown",
   "metadata": {},
   "source": [
    "## Merging data"
   ]
  },
  {
   "cell_type": "code",
   "execution_count": 3,
   "metadata": {},
   "outputs": [
    {
     "output_type": "execute_result",
     "data": {
      "text/plain": "       Country  2015_rank  2015_score  2015_GDP  2015_family  \\\n0  Switzerland        1.0       7.587   1.39651      1.34951   \n1      Iceland        2.0       7.561   1.30232      1.40223   \n2      Denmark        3.0       7.527   1.32548      1.36058   \n3       Norway        4.0       7.522   1.45900      1.33095   \n4       Canada        5.0       7.427   1.32629      1.32261   \n\n   2015_life_expect  2015_freedom  2015_corruption  2015_generosity  \\\n0           0.94143       0.66557          0.41978          0.29678   \n1           0.94784       0.62877          0.14145          0.43630   \n2           0.87464       0.64938          0.48357          0.34139   \n3           0.88521       0.66973          0.36503          0.34699   \n4           0.90563       0.63297          0.32957          0.45811   \n\n   2015_Dystopia  ...  2016_Dystopia  2017_rank  2017_score  2017_GDP  \\\n0        2.51738  ...        2.69463        4.0       7.494  1.564980   \n1        2.70201  ...        2.83137        3.0       7.504  1.480633   \n2        2.49204  ...        2.73939        2.0       7.522  1.482383   \n3        2.46531  ...        2.66465        1.0       7.537  1.616463   \n4        2.45176  ...        2.70485        7.0       7.316  1.479204   \n\n   2017_family  2017_life_expect  2017_freedom  2017_generosity  \\\n0     1.516912          0.858131      0.620071         0.290549   \n1     1.610574          0.833552      0.627163         0.475540   \n2     1.551122          0.792566      0.626007         0.355280   \n3     1.533524          0.796667      0.635423         0.362012   \n4     1.481349          0.834558      0.611101         0.435540   \n\n   2017_corruption  2017_Dystopia  \n0         0.367007       2.276716  \n1         0.153527       2.322715  \n2         0.400770       2.313707  \n3         0.315964       2.277027  \n4         0.287372       2.187264  \n\n[5 rows x 28 columns]",
      "text/html": "<div>\n<style scoped>\n    .dataframe tbody tr th:only-of-type {\n        vertical-align: middle;\n    }\n\n    .dataframe tbody tr th {\n        vertical-align: top;\n    }\n\n    .dataframe thead th {\n        text-align: right;\n    }\n</style>\n<table border=\"1\" class=\"dataframe\">\n  <thead>\n    <tr style=\"text-align: right;\">\n      <th></th>\n      <th>Country</th>\n      <th>2015_rank</th>\n      <th>2015_score</th>\n      <th>2015_GDP</th>\n      <th>2015_family</th>\n      <th>2015_life_expect</th>\n      <th>2015_freedom</th>\n      <th>2015_corruption</th>\n      <th>2015_generosity</th>\n      <th>2015_Dystopia</th>\n      <th>...</th>\n      <th>2016_Dystopia</th>\n      <th>2017_rank</th>\n      <th>2017_score</th>\n      <th>2017_GDP</th>\n      <th>2017_family</th>\n      <th>2017_life_expect</th>\n      <th>2017_freedom</th>\n      <th>2017_generosity</th>\n      <th>2017_corruption</th>\n      <th>2017_Dystopia</th>\n    </tr>\n  </thead>\n  <tbody>\n    <tr>\n      <th>0</th>\n      <td>Switzerland</td>\n      <td>1.0</td>\n      <td>7.587</td>\n      <td>1.39651</td>\n      <td>1.34951</td>\n      <td>0.94143</td>\n      <td>0.66557</td>\n      <td>0.41978</td>\n      <td>0.29678</td>\n      <td>2.51738</td>\n      <td>...</td>\n      <td>2.69463</td>\n      <td>4.0</td>\n      <td>7.494</td>\n      <td>1.564980</td>\n      <td>1.516912</td>\n      <td>0.858131</td>\n      <td>0.620071</td>\n      <td>0.290549</td>\n      <td>0.367007</td>\n      <td>2.276716</td>\n    </tr>\n    <tr>\n      <th>1</th>\n      <td>Iceland</td>\n      <td>2.0</td>\n      <td>7.561</td>\n      <td>1.30232</td>\n      <td>1.40223</td>\n      <td>0.94784</td>\n      <td>0.62877</td>\n      <td>0.14145</td>\n      <td>0.43630</td>\n      <td>2.70201</td>\n      <td>...</td>\n      <td>2.83137</td>\n      <td>3.0</td>\n      <td>7.504</td>\n      <td>1.480633</td>\n      <td>1.610574</td>\n      <td>0.833552</td>\n      <td>0.627163</td>\n      <td>0.475540</td>\n      <td>0.153527</td>\n      <td>2.322715</td>\n    </tr>\n    <tr>\n      <th>2</th>\n      <td>Denmark</td>\n      <td>3.0</td>\n      <td>7.527</td>\n      <td>1.32548</td>\n      <td>1.36058</td>\n      <td>0.87464</td>\n      <td>0.64938</td>\n      <td>0.48357</td>\n      <td>0.34139</td>\n      <td>2.49204</td>\n      <td>...</td>\n      <td>2.73939</td>\n      <td>2.0</td>\n      <td>7.522</td>\n      <td>1.482383</td>\n      <td>1.551122</td>\n      <td>0.792566</td>\n      <td>0.626007</td>\n      <td>0.355280</td>\n      <td>0.400770</td>\n      <td>2.313707</td>\n    </tr>\n    <tr>\n      <th>3</th>\n      <td>Norway</td>\n      <td>4.0</td>\n      <td>7.522</td>\n      <td>1.45900</td>\n      <td>1.33095</td>\n      <td>0.88521</td>\n      <td>0.66973</td>\n      <td>0.36503</td>\n      <td>0.34699</td>\n      <td>2.46531</td>\n      <td>...</td>\n      <td>2.66465</td>\n      <td>1.0</td>\n      <td>7.537</td>\n      <td>1.616463</td>\n      <td>1.533524</td>\n      <td>0.796667</td>\n      <td>0.635423</td>\n      <td>0.362012</td>\n      <td>0.315964</td>\n      <td>2.277027</td>\n    </tr>\n    <tr>\n      <th>4</th>\n      <td>Canada</td>\n      <td>5.0</td>\n      <td>7.427</td>\n      <td>1.32629</td>\n      <td>1.32261</td>\n      <td>0.90563</td>\n      <td>0.63297</td>\n      <td>0.32957</td>\n      <td>0.45811</td>\n      <td>2.45176</td>\n      <td>...</td>\n      <td>2.70485</td>\n      <td>7.0</td>\n      <td>7.316</td>\n      <td>1.479204</td>\n      <td>1.481349</td>\n      <td>0.834558</td>\n      <td>0.611101</td>\n      <td>0.435540</td>\n      <td>0.287372</td>\n      <td>2.187264</td>\n    </tr>\n  </tbody>\n</table>\n<p>5 rows × 28 columns</p>\n</div>"
     },
     "metadata": {},
     "execution_count": 3
    }
   ],
   "source": [
    "merged_1_df = pd.merge(h15_df, h16_df, how='outer', on='Country', suffixes=('_15', '_16'))\n",
    "\n",
    "merged_2_df = pd.merge(merged_1_df, h17_df, how='outer', on='Country')\n",
    "merged_2_df.head()\n"
   ]
  },
  {
   "cell_type": "markdown",
   "metadata": {},
   "source": [
    "## 50 Shades Data"
   ]
  },
  {
   "cell_type": "code",
   "execution_count": 5,
   "metadata": {},
   "outputs": [
    {
     "output_type": "execute_result",
     "data": {
      "text/plain": "                                                                                           <<<<<<< HEAD\nMarket        Region                          Release Date Opening Day Sales ($USD)  Gross Sales ($USD)\nUnited States North America                   2/13/15      85,171,450                       166,167,230\nAustria       Europe, Middle East, and Africa 2/12/15      1,607,134                          5,397,769\nBelgium       Europe, Middle East, and Africa 2/11/15      2,102,437                          5,792,486\nBulgaria      Europe, Middle East, and Africa 2/13/15      336,509                              837,393",
      "text/html": "<div>\n<style scoped>\n    .dataframe tbody tr th:only-of-type {\n        vertical-align: middle;\n    }\n\n    .dataframe tbody tr th {\n        vertical-align: top;\n    }\n\n    .dataframe thead th {\n        text-align: right;\n    }\n</style>\n<table border=\"1\" class=\"dataframe\">\n  <thead>\n    <tr style=\"text-align: right;\">\n      <th></th>\n      <th></th>\n      <th></th>\n      <th></th>\n      <th>&lt;&lt;&lt;&lt;&lt;&lt;&lt; HEAD</th>\n    </tr>\n  </thead>\n  <tbody>\n    <tr>\n      <th>Market</th>\n      <th>Region</th>\n      <th>Release Date</th>\n      <th>Opening Day Sales ($USD)</th>\n      <td>Gross Sales ($USD)</td>\n    </tr>\n    <tr>\n      <th>United States</th>\n      <th>North America</th>\n      <th>2/13/15</th>\n      <th>85,171,450</th>\n      <td>166,167,230</td>\n    </tr>\n    <tr>\n      <th>Austria</th>\n      <th>Europe, Middle East, and Africa</th>\n      <th>2/12/15</th>\n      <th>1,607,134</th>\n      <td>5,397,769</td>\n    </tr>\n    <tr>\n      <th>Belgium</th>\n      <th>Europe, Middle East, and Africa</th>\n      <th>2/11/15</th>\n      <th>2,102,437</th>\n      <td>5,792,486</td>\n    </tr>\n    <tr>\n      <th>Bulgaria</th>\n      <th>Europe, Middle East, and Africa</th>\n      <th>2/13/15</th>\n      <th>336,509</th>\n      <td>837,393</td>\n    </tr>\n  </tbody>\n</table>\n</div>"
     },
     "metadata": {},
     "execution_count": 5
    }
   ],
   "source": [
    "shades_grey = 'Resources/shadesgrey2015.csv'\n",
    "shades_darker = 'Resources/shadesdarker2017.csv'\n",
    "\n",
    "grey_df = pd.read_csv(shades_grey)\n",
    "darker_df = pd.read_csv(shades_darker)\n",
    "\n",
    "grey_df.head()"
   ]
  },
  {
   "cell_type": "code",
   "execution_count": null,
   "metadata": {},
   "outputs": [],
   "source": [
    "## Test Test Test"
   ]
  }
 ],
 "metadata": {
  "language_info": {
   "codemirror_mode": {
    "name": "ipython",
    "version": 3
   },
   "file_extension": ".py",
   "mimetype": "text/x-python",
   "name": "python",
   "nbconvert_exporter": "python",
   "pygments_lexer": "ipython3",
   "version": 3
  },
  "orig_nbformat": 2,
  "kernelspec": {
   "name": "python_defaultSpec_1594868798653",
   "display_name": "Python 3.7.6 64-bit ('patri': virtualenv)"
  }
 },
 "nbformat": 4,
 "nbformat_minor": 2
}